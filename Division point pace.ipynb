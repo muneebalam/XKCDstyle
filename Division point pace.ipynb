{
 "cells": [
  {
   "cell_type": "code",
   "execution_count": 1,
   "metadata": {
    "collapsed": true
   },
   "outputs": [],
   "source": [
    "from pylab import *\n",
    "%matplotlib inline\n",
    "import pandas as pd"
   ]
  },
  {
   "cell_type": "code",
   "execution_count": 2,
   "metadata": {},
   "outputs": [
    {
     "data": {
      "text/html": [
       "<div>\n",
       "<style>\n",
       "    .dataframe thead tr:only-child th {\n",
       "        text-align: right;\n",
       "    }\n",
       "\n",
       "    .dataframe thead th {\n",
       "        text-align: left;\n",
       "    }\n",
       "\n",
       "    .dataframe tbody tr th {\n",
       "        vertical-align: top;\n",
       "    }\n",
       "</style>\n",
       "<table border=\"1\" class=\"dataframe\">\n",
       "  <thead>\n",
       "    <tr style=\"text-align: right;\">\n",
       "      <th></th>\n",
       "      <th>Division</th>\n",
       "      <th>GP</th>\n",
       "      <th>Pts</th>\n",
       "      <th>Team</th>\n",
       "      <th>Pace</th>\n",
       "    </tr>\n",
       "  </thead>\n",
       "  <tbody>\n",
       "    <tr>\n",
       "      <th>0</th>\n",
       "      <td>MET</td>\n",
       "      <td>19</td>\n",
       "      <td>25</td>\n",
       "      <td>NJ</td>\n",
       "      <td>107.894737</td>\n",
       "    </tr>\n",
       "    <tr>\n",
       "      <th>1</th>\n",
       "      <td>MET</td>\n",
       "      <td>20</td>\n",
       "      <td>25</td>\n",
       "      <td>CBJ</td>\n",
       "      <td>102.500000</td>\n",
       "    </tr>\n",
       "    <tr>\n",
       "      <th>2</th>\n",
       "      <td>MET</td>\n",
       "      <td>22</td>\n",
       "      <td>25</td>\n",
       "      <td>PIT</td>\n",
       "      <td>93.181818</td>\n",
       "    </tr>\n",
       "    <tr>\n",
       "      <th>3</th>\n",
       "      <td>MET</td>\n",
       "      <td>19</td>\n",
       "      <td>24</td>\n",
       "      <td>NYI</td>\n",
       "      <td>103.578947</td>\n",
       "    </tr>\n",
       "    <tr>\n",
       "      <th>4</th>\n",
       "      <td>MET</td>\n",
       "      <td>21</td>\n",
       "      <td>23</td>\n",
       "      <td>WSH</td>\n",
       "      <td>89.809524</td>\n",
       "    </tr>\n",
       "  </tbody>\n",
       "</table>\n",
       "</div>"
      ],
      "text/plain": [
       "  Division  GP  Pts Team        Pace\n",
       "0      MET  19   25   NJ  107.894737\n",
       "1      MET  20   25  CBJ  102.500000\n",
       "2      MET  22   25  PIT   93.181818\n",
       "3      MET  19   24  NYI  103.578947\n",
       "4      MET  21   23  WSH   89.809524"
      ]
     },
     "execution_count": 2,
     "metadata": {},
     "output_type": "execute_result"
    }
   ],
   "source": [
    "# Input the data by hand\n",
    "teams = ['NJ', 'CBJ', 'PIT', 'NYI', 'WSH', 'CAR', 'NYR', 'PHI',\n",
    "        'TB', 'TOR', 'OTT', 'DET', 'BOS', 'MTL', 'FLA', 'BUF',\n",
    "        'STL', 'WPG', 'NSH', 'CHI', 'DAL', 'MIN', 'COL',\n",
    "        'LA', 'VGK', 'CGY', 'VAN', 'SJ', 'ANA', 'EDM', 'ARI']\n",
    "divisions = ['MET']*8 + ['ATL']*8 + ['CEN']*7 + ['PAC']*8\n",
    "gp = [19, 20, 22, 19, 21, 18, 20, 20,\n",
    "     20, 21, 18, 20, 19, 21, 19, 20,\n",
    "     21, 19, 19, 20, 20, 19, 18,\n",
    "     20, 18, 19, 20, 18, 18, 20, 22]\n",
    "pts = [25, 25, 25, 24, 23, 20, 20, 20,\n",
    "      32, 28, 22, 22, 20, 18, 16, 14,\n",
    "      31, 27, 24, 22, 21, 20, 19,\n",
    "      26, 23, 22, 21, 20, 19, 16, 11]\n",
    "df = pd.DataFrame({'Team': teams, 'Division': divisions, 'GP': gp, 'Pts': pts})\n",
    "df.loc[:, 'Pace'] = df.Pts / df.GP * 82\n",
    "df.head()"
   ]
  },
  {
   "cell_type": "code",
   "execution_count": 3,
   "metadata": {},
   "outputs": [
    {
     "data": {
      "image/png": "[encoded data removed]",
      "text/plain": [
       "<matplotlib.figure.Figure at 0x117c86160>"
      ]
     },
     "metadata": {},
     "output_type": "display_data"
    }
   ],
   "source": [
    "xkcd()\n",
    "gca().spines['right'].set_visible(False)\n",
    "gca().spines['top'].set_visible(False)\n",
    "gca().spines['bottom'].set_visible(False)\n",
    "\n",
    "data = [[df[df.Division == div].Pace.values] for div in ['MET', 'ATL', 'CEN', 'PAC']]\n",
    "\n",
    "boxplot(data, vert=False);\n",
    "yticks([1, 2, 3, 4], ['MET', 'ATL', 'CEN', 'PAC']);\n",
    "xlabel('Points pace');\n",
    "title('Team point pace through 11/18/17');"
   ]
  }
 ],
 "metadata": {
  "kernelspec": {
   "display_name": "Python 3",
   "language": "python",
   "name": "python3"
  },
  "language_info": {
   "codemirror_mode": {
    "name": "ipython",
    "version": 3
   },
   "file_extension": ".py",
   "mimetype": "text/x-python",
   "name": "python",
   "nbconvert_exporter": "python",
   "pygments_lexer": "ipython3",
   "version": "3.6.1"
  }
 },
 "nbformat": 4,
 "nbformat_minor": 2
}
