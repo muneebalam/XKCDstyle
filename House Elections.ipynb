{
 "cells": [
  {
   "cell_type": "code",
   "execution_count": 1,
   "metadata": {},
   "outputs": [],
   "source": [
    "import pandas as pd\n",
    "from pylab import *\n",
    "%matplotlib inline\n",
    "from bs4 import BeautifulSoup\n",
    "import urllib.request"
   ]
  },
  {
   "cell_type": "markdown",
   "metadata": {},
   "source": [
    "### Introduction\n",
    "\n",
    "In this notebook, we scrape Wikipedia information on House races to visualize % of the vote won and seats won over time.\n",
    "\n",
    "The broad idea is that the number of seats you flip is related to two things: one, how much of the vote you won, and two, *how well you were already doing*. That itself is related to your \"natural\" appeal (which, we'll see, in the long-run, is more moderate than some notable historical extremes, ignoring voter disenfranchisement and suppression) and how you did in the previous election (which could have been inordinately well).\n",
    "\n",
    "In other words, you could do terribly in a year and win only 100 seats. But it's possible that in the next election, things snap back to normal, you have around 220 seats, and you gained 120 - but you're roughly 50/50."
   ]
  },
  {
   "cell_type": "markdown",
   "metadata": {},
   "source": [
    "### Scrape data"
   ]
  },
  {
   "cell_type": "code",
   "execution_count": 2,
   "metadata": {},
   "outputs": [],
   "source": [
    "years = list(range(1938, 2019, 2)) # 1938 first year wiki has the % of vote, too\n",
    "url_base = 'https://en.wikipedia.org/wiki/United_States_House_of_Representatives_elections,_'"
   ]
  },
  {
   "cell_type": "code",
   "execution_count": 3,
   "metadata": {},
   "outputs": [],
   "source": [
    "def get_summary_table_rows(yr):\n",
    "    with urllib.request.urlopen('{0:s}{1:d}'.format(url_base, yr)) as r:\n",
    "        page = r.read()\n",
    "    soup = BeautifulSoup(page, 'lxml')\n",
    "    summary_table = soup.find('table', {'class': 'infobox vevent'})\n",
    "    trs = summary_table.findAll('tr')\n",
    "    return trs\n",
    "\n",
    "def get_parties(tr_list):\n",
    "    my_parties = []\n",
    "    for tr_elem in tr_list:\n",
    "        if tr_elem.text[:6] == '\\nParty':\n",
    "            parties = tr_elem.text[6:].strip().replace('\\n\\n', '\\n').replace('  ', ' ').split('\\n')\n",
    "            my_parties += parties\n",
    "    return my_parties\n",
    "\n",
    "def get_seats_won(tr_list):\n",
    "    my_seats_won = []\n",
    "    for tr_elem in tr_list:\n",
    "        if tr_elem.text[:10] == '\\nSeats\\xa0won':\n",
    "            sw = tr_elem.text[10:].strip().replace('\\n\\n', '\\n').replace('  ', ' ').split('\\n')\n",
    "            my_seats_won += sw\n",
    "    return my_seats_won\n",
    "\n",
    "def get_percentage_won(tr_list):\n",
    "    my_pct = []\n",
    "    for tr_elem in tr_list:\n",
    "        if tr_elem.text[:11] == '\\nPercentage':\n",
    "            pcts = tr_elem.text[11:].strip().replace('\\n\\n', '\\n').replace('  ', ' ').split('\\n')\n",
    "            my_pct += pcts\n",
    "    return my_pct"
   ]
  },
  {
   "cell_type": "code",
   "execution_count": 4,
   "metadata": {},
   "outputs": [
    {
     "name": "stdout",
     "output_type": "stream",
     "text": [
      "Starting 1940\n",
      "Starting 1960\n",
      "Starting 1980\n",
      "Starting 2000\n"
     ]
    },
    {
     "data": {
      "text/html": [
       "<div>\n",
       "<style scoped>\n",
       "    .dataframe tbody tr th:only-of-type {\n",
       "        vertical-align: middle;\n",
       "    }\n",
       "\n",
       "    .dataframe tbody tr th {\n",
       "        vertical-align: top;\n",
       "    }\n",
       "\n",
       "    .dataframe thead th {\n",
       "        text-align: right;\n",
       "    }\n",
       "</style>\n",
       "<table border=\"1\" class=\"dataframe\">\n",
       "  <thead>\n",
       "    <tr style=\"text-align: right;\">\n",
       "      <th></th>\n",
       "      <th>Party</th>\n",
       "      <th>Percent</th>\n",
       "      <th>Seats</th>\n",
       "      <th>Year</th>\n",
       "    </tr>\n",
       "  </thead>\n",
       "  <tbody>\n",
       "    <tr>\n",
       "      <th>0</th>\n",
       "      <td>Democratic</td>\n",
       "      <td>48.7%</td>\n",
       "      <td>262</td>\n",
       "      <td>1938</td>\n",
       "    </tr>\n",
       "    <tr>\n",
       "      <th>1</th>\n",
       "      <td>Republican</td>\n",
       "      <td>47.5%</td>\n",
       "      <td>169</td>\n",
       "      <td>1938</td>\n",
       "    </tr>\n",
       "    <tr>\n",
       "      <th>2</th>\n",
       "      <td>Progressive</td>\n",
       "      <td>1.0%</td>\n",
       "      <td>2</td>\n",
       "      <td>1938</td>\n",
       "    </tr>\n",
       "    <tr>\n",
       "      <th>3</th>\n",
       "      <td>Farmer–Labor</td>\n",
       "      <td>0.9%</td>\n",
       "      <td>1</td>\n",
       "      <td>1938</td>\n",
       "    </tr>\n",
       "    <tr>\n",
       "      <th>4</th>\n",
       "      <td>American Labor</td>\n",
       "      <td>0.7%</td>\n",
       "      <td>1</td>\n",
       "      <td>1938</td>\n",
       "    </tr>\n",
       "  </tbody>\n",
       "</table>\n",
       "</div>"
      ],
      "text/plain": [
       "            Party Percent Seats  Year\n",
       "0      Democratic   48.7%   262  1938\n",
       "1      Republican   47.5%   169  1938\n",
       "2     Progressive    1.0%     2  1938\n",
       "3    Farmer–Labor    0.9%     1  1938\n",
       "4  American Labor    0.7%     1  1938"
      ]
     },
     "execution_count": 4,
     "metadata": {},
     "output_type": "execute_result"
    }
   ],
   "source": [
    "def get_year_df(yr):\n",
    "    if yr % 20 == 0:\n",
    "        print('Starting {0:d}'.format(yr))\n",
    "    trs = get_summary_table_rows(yr)\n",
    "    return pd.DataFrame({'Party': get_parties(trs),\n",
    "                        'Seats': get_seats_won(trs),\n",
    "                        'Percent': get_percentage_won(trs)}).assign(Year = yr)\n",
    "\n",
    "election_data = pd.concat([get_year_df(yr) for yr in years])\n",
    "election_data.head()"
   ]
  },
  {
   "cell_type": "code",
   "execution_count": 5,
   "metadata": {},
   "outputs": [
    {
     "data": {
      "text/html": [
       "<div>\n",
       "<style scoped>\n",
       "    .dataframe tbody tr th:only-of-type {\n",
       "        vertical-align: middle;\n",
       "    }\n",
       "\n",
       "    .dataframe tbody tr th {\n",
       "        vertical-align: top;\n",
       "    }\n",
       "\n",
       "    .dataframe thead th {\n",
       "        text-align: right;\n",
       "    }\n",
       "</style>\n",
       "<table border=\"1\" class=\"dataframe\">\n",
       "  <thead>\n",
       "    <tr style=\"text-align: right;\">\n",
       "      <th></th>\n",
       "      <th>Party</th>\n",
       "      <th>Percent</th>\n",
       "      <th>Seats</th>\n",
       "      <th>Year</th>\n",
       "    </tr>\n",
       "  </thead>\n",
       "  <tbody>\n",
       "    <tr>\n",
       "      <th>0</th>\n",
       "      <td>Democratic</td>\n",
       "      <td>52.8%</td>\n",
       "      <td>231 (potentially 237)[b]</td>\n",
       "      <td>2018</td>\n",
       "    </tr>\n",
       "    <tr>\n",
       "      <th>1</th>\n",
       "      <td>Republican</td>\n",
       "      <td>45.5%</td>\n",
       "      <td>198 (potentially 204)[b]</td>\n",
       "      <td>2018</td>\n",
       "    </tr>\n",
       "  </tbody>\n",
       "</table>\n",
       "</div>"
      ],
      "text/plain": [
       "        Party Percent                     Seats  Year\n",
       "0  Democratic   52.8%  231 (potentially 237)[b]  2018\n",
       "1  Republican   45.5%  198 (potentially 204)[b]  2018"
      ]
     },
     "execution_count": 5,
     "metadata": {},
     "output_type": "execute_result"
    }
   ],
   "source": [
    "election_data[election_data.Year == 2018]"
   ]
  },
  {
   "cell_type": "markdown",
   "metadata": {},
   "source": [
    "A little data cleanup:\n",
    "- Make sure the party names are as expected\n",
    "- Change percent to a number (removing the percent sign)\n",
    "- For 2018, remove the parenthetical that there are seats undecided, and add 3 to each party\n",
    "- Make sure each column is the right type"
   ]
  },
  {
   "cell_type": "code",
   "execution_count": 6,
   "metadata": {},
   "outputs": [
    {
     "data": {
      "text/html": [
       "<div>\n",
       "<style scoped>\n",
       "    .dataframe tbody tr th:only-of-type {\n",
       "        vertical-align: middle;\n",
       "    }\n",
       "\n",
       "    .dataframe tbody tr th {\n",
       "        vertical-align: top;\n",
       "    }\n",
       "\n",
       "    .dataframe thead th {\n",
       "        text-align: right;\n",
       "    }\n",
       "</style>\n",
       "<table border=\"1\" class=\"dataframe\">\n",
       "  <thead>\n",
       "    <tr style=\"text-align: right;\">\n",
       "      <th></th>\n",
       "      <th>Party</th>\n",
       "    </tr>\n",
       "  </thead>\n",
       "  <tbody>\n",
       "    <tr>\n",
       "      <th>0</th>\n",
       "      <td>Democratic</td>\n",
       "    </tr>\n",
       "    <tr>\n",
       "      <th>1</th>\n",
       "      <td>Republican</td>\n",
       "    </tr>\n",
       "    <tr>\n",
       "      <th>2</th>\n",
       "      <td>Progressive</td>\n",
       "    </tr>\n",
       "    <tr>\n",
       "      <th>3</th>\n",
       "      <td>Farmer–Labor</td>\n",
       "    </tr>\n",
       "    <tr>\n",
       "      <th>4</th>\n",
       "      <td>American Labor</td>\n",
       "    </tr>\n",
       "    <tr>\n",
       "      <th>5</th>\n",
       "      <td>Independent</td>\n",
       "    </tr>\n",
       "  </tbody>\n",
       "</table>\n",
       "</div>"
      ],
      "text/plain": [
       "            Party\n",
       "0      Democratic\n",
       "1      Republican\n",
       "2     Progressive\n",
       "3    Farmer–Labor\n",
       "4  American Labor\n",
       "5     Independent"
      ]
     },
     "execution_count": 6,
     "metadata": {},
     "output_type": "execute_result"
    }
   ],
   "source": [
    "# Check party names\n",
    "election_data[['Party']].drop_duplicates()"
   ]
  },
  {
   "cell_type": "code",
   "execution_count": 7,
   "metadata": {},
   "outputs": [
    {
     "data": {
      "text/html": [
       "<div>\n",
       "<style scoped>\n",
       "    .dataframe tbody tr th:only-of-type {\n",
       "        vertical-align: middle;\n",
       "    }\n",
       "\n",
       "    .dataframe tbody tr th {\n",
       "        vertical-align: top;\n",
       "    }\n",
       "\n",
       "    .dataframe thead th {\n",
       "        text-align: right;\n",
       "    }\n",
       "</style>\n",
       "<table border=\"1\" class=\"dataframe\">\n",
       "  <thead>\n",
       "    <tr style=\"text-align: right;\">\n",
       "      <th></th>\n",
       "      <th>Party</th>\n",
       "      <th>Percent</th>\n",
       "      <th>Seats</th>\n",
       "      <th>Year</th>\n",
       "      <th>Percentage</th>\n",
       "    </tr>\n",
       "  </thead>\n",
       "  <tbody>\n",
       "    <tr>\n",
       "      <th>0</th>\n",
       "      <td>Democratic</td>\n",
       "      <td>48.7%</td>\n",
       "      <td>262</td>\n",
       "      <td>1938</td>\n",
       "      <td>48.7</td>\n",
       "    </tr>\n",
       "    <tr>\n",
       "      <th>1</th>\n",
       "      <td>Republican</td>\n",
       "      <td>47.5%</td>\n",
       "      <td>169</td>\n",
       "      <td>1938</td>\n",
       "      <td>47.5</td>\n",
       "    </tr>\n",
       "    <tr>\n",
       "      <th>2</th>\n",
       "      <td>Progressive</td>\n",
       "      <td>1.0%</td>\n",
       "      <td>2</td>\n",
       "      <td>1938</td>\n",
       "      <td>1.0</td>\n",
       "    </tr>\n",
       "    <tr>\n",
       "      <th>3</th>\n",
       "      <td>Farmer–Labor</td>\n",
       "      <td>0.9%</td>\n",
       "      <td>1</td>\n",
       "      <td>1938</td>\n",
       "      <td>0.9</td>\n",
       "    </tr>\n",
       "    <tr>\n",
       "      <th>4</th>\n",
       "      <td>American Labor</td>\n",
       "      <td>0.7%</td>\n",
       "      <td>1</td>\n",
       "      <td>1938</td>\n",
       "      <td>0.7</td>\n",
       "    </tr>\n",
       "  </tbody>\n",
       "</table>\n",
       "</div>"
      ],
      "text/plain": [
       "            Party Percent Seats  Year  Percentage\n",
       "0      Democratic   48.7%   262  1938        48.7\n",
       "1      Republican   47.5%   169  1938        47.5\n",
       "2     Progressive    1.0%     2  1938         1.0\n",
       "3    Farmer–Labor    0.9%     1  1938         0.9\n",
       "4  American Labor    0.7%     1  1938         0.7"
      ]
     },
     "execution_count": 7,
     "metadata": {},
     "output_type": "execute_result"
    }
   ],
   "source": [
    "# Change percent to a number and year to a number\n",
    "election_data.loc[:, 'Percentage'] = election_data.Percent.str.replace('%', '').astype(float)\n",
    "election_data.loc[:, 'Year'] = election_data.Year.astype(int)\n",
    "election_data.head()"
   ]
  },
  {
   "cell_type": "code",
   "execution_count": 8,
   "metadata": {},
   "outputs": [
    {
     "data": {
      "text/html": [
       "<div>\n",
       "<style scoped>\n",
       "    .dataframe tbody tr th:only-of-type {\n",
       "        vertical-align: middle;\n",
       "    }\n",
       "\n",
       "    .dataframe tbody tr th {\n",
       "        vertical-align: top;\n",
       "    }\n",
       "\n",
       "    .dataframe thead th {\n",
       "        text-align: right;\n",
       "    }\n",
       "</style>\n",
       "<table border=\"1\" class=\"dataframe\">\n",
       "  <thead>\n",
       "    <tr style=\"text-align: right;\">\n",
       "      <th></th>\n",
       "      <th>Party</th>\n",
       "      <th>Percent</th>\n",
       "      <th>Seats</th>\n",
       "      <th>Year</th>\n",
       "      <th>Percentage</th>\n",
       "      <th>Seats won</th>\n",
       "    </tr>\n",
       "  </thead>\n",
       "  <tbody>\n",
       "    <tr>\n",
       "      <th>0</th>\n",
       "      <td>Democratic</td>\n",
       "      <td>52.8%</td>\n",
       "      <td>231 (potentially 237)[b]</td>\n",
       "      <td>2018</td>\n",
       "      <td>52.8</td>\n",
       "      <td>234</td>\n",
       "    </tr>\n",
       "    <tr>\n",
       "      <th>1</th>\n",
       "      <td>Republican</td>\n",
       "      <td>45.5%</td>\n",
       "      <td>198 (potentially 204)[b]</td>\n",
       "      <td>2018</td>\n",
       "      <td>45.5</td>\n",
       "      <td>201</td>\n",
       "    </tr>\n",
       "  </tbody>\n",
       "</table>\n",
       "</div>"
      ],
      "text/plain": [
       "        Party Percent                     Seats  Year  Percentage  Seats won\n",
       "0  Democratic   52.8%  231 (potentially 237)[b]  2018        52.8        234\n",
       "1  Republican   45.5%  198 (potentially 204)[b]  2018        45.5        201"
      ]
     },
     "execution_count": 8,
     "metadata": {},
     "output_type": "execute_result"
    }
   ],
   "source": [
    "# Remove parenthetical to seats, add 3 to 2018, change to int\n",
    "election_data.loc[:, 'Seats won'] = election_data.Seats.str.extract('^([0-9]+).*', expand = False).astype(int)\n",
    "election_data.loc[election_data.Year == 2018, 'Seats won'] = election_data.loc[election_data.Year == 2018, 'Seats won'] + 3\n",
    "election_data[election_data.Year == 2018].head()"
   ]
  },
  {
   "cell_type": "markdown",
   "metadata": {},
   "source": [
    "### Visualization\n",
    "\n",
    "Let's look at seat share over time."
   ]
  },
  {
   "cell_type": "code",
   "execution_count": 9,
   "metadata": {},
   "outputs": [
    {
     "data": {
      "image/png": "[encoded data removed]",
      "text/plain": [
       "<matplotlib.figure.Figure at 0x1de18474c50>"
      ]
     },
     "metadata": {},
     "output_type": "display_data"
    }
   ],
   "source": [
    "seatshare = election_data[['Party', 'Seats won', 'Year']] \\\n",
    "    .pivot_table(index = \"Year\", columns = \"Party\", values = \"Seats won\") \\\n",
    "    .fillna(0)\n",
    "yearly_totals = election_data[['Year', 'Seats won']] \\\n",
    "    .groupby('Year').sum() \\\n",
    "    .rename(columns = {'Seats won': 'Total seats'})\n",
    "# switch to %s\n",
    "seatshare = seatshare.join(yearly_totals)\n",
    "for col in seatshare.columns:\n",
    "    seatshare.loc[:, col] = 100 * seatshare[col] / seatshare['Total seats']\n",
    "seatshare = seatshare.drop('Total seats', axis = 1)\n",
    "\n",
    "seatshare.plot(kind = 'bar', stacked = True);\n",
    "legend(loc = 2, bbox_to_anchor = (1, 1))\n",
    "title('House seat share won by election and party');\n",
    "ylabel('Percentage');\n",
    "xlabel('Year');\n",
    "ylim(0, 100);\n",
    "# xticks(range(1940, 2020, 4));"
   ]
  },
  {
   "cell_type": "markdown",
   "metadata": {},
   "source": [
    "Now, let's drop third parties and, between Democrats and Republicans, let's look at vote share and seat share over time."
   ]
  },
  {
   "cell_type": "code",
   "execution_count": 10,
   "metadata": {},
   "outputs": [],
   "source": [
    "dr_data = election_data.query('Party == \"Democratic\" | Party == \"Republican\"')\n",
    "dr_seats = dr_data[[\"Party\", \"Seats won\", \"Year\"]].pivot_table(index = \"Year\", columns = \"Party\", values = \"Seats won\")\n",
    "dr_pct = dr_data[['Party', 'Percentage', 'Year']].pivot_table(index = \"Year\", columns = \"Party\", values = \"Percentage\")\n",
    "\n",
    "# recalculate based on nums from Ds and Rs\n",
    "dr_seats.loc[:, 'D Seat Pct'] = dr_seats.Democratic / (dr_seats.Democratic + dr_seats.Republican)\n",
    "dr_pct.loc[:, 'D Vote Pct'] = dr_pct.Democratic / (dr_pct.Democratic + dr_pct.Republican)"
   ]
  },
  {
   "cell_type": "code",
   "execution_count": 11,
   "metadata": {},
   "outputs": [
    {
     "data": {
      "image/png": "[encoded data removed]",
      "text/plain": [
       "<matplotlib.figure.Figure at 0x1de19c9feb8>"
      ]
     },
     "metadata": {},
     "output_type": "display_data"
    }
   ],
   "source": [
    "plot(dr_seats['D Seat Pct'], label = 'Seats')\n",
    "plot(dr_pct['D Vote Pct'], label = 'Vote')\n",
    "xlim(dr_seats.index.min(), dr_seats.index.max())\n",
    "plot(xlim(), [.5, .5], ls = ':', color = 'gray', label = '50-50')\n",
    "xlabel('Year')\n",
    "ylabel('Fraction (third parties removed)')\n",
    "title('Democrat House election performance');\n",
    "gca().spines['right'].set_visible(False)\n",
    "gca().spines['top'].set_visible(False)\n",
    "legend(loc = 1, frameon = False);"
   ]
  },
  {
   "cell_type": "markdown",
   "metadata": {},
   "source": [
    "This type of majority was actually the norm for the Democrats for much of the latter half of the 20th century. It seems like the [\"Republican Revolution\"](https://en.wikipedia.org/wiki/Republican_Revolution) in the early 1990s may have broken that trend, and now, neither party is capable of gaining large shares of the House. Extremes like 2006-10 were once normal, but now, assuming the last 25 years is any indication, that's no longer true.\n",
    "\n",
    "Which elections caused the biggest shifts in terms of number of seats?"
   ]
  },
  {
   "cell_type": "code",
   "execution_count": 12,
   "metadata": {},
   "outputs": [
    {
     "data": {
      "text/html": [
       "<div>\n",
       "<style scoped>\n",
       "    .dataframe tbody tr th:only-of-type {\n",
       "        vertical-align: middle;\n",
       "    }\n",
       "\n",
       "    .dataframe tbody tr th {\n",
       "        vertical-align: top;\n",
       "    }\n",
       "\n",
       "    .dataframe thead th {\n",
       "        text-align: right;\n",
       "    }\n",
       "</style>\n",
       "<table border=\"1\" class=\"dataframe\">\n",
       "  <thead>\n",
       "    <tr style=\"text-align: right;\">\n",
       "      <th>Party</th>\n",
       "      <th>Democratic</th>\n",
       "      <th>Republican</th>\n",
       "      <th>D Seat Pct</th>\n",
       "      <th>Change</th>\n",
       "    </tr>\n",
       "    <tr>\n",
       "      <th>Year</th>\n",
       "      <th></th>\n",
       "      <th></th>\n",
       "      <th></th>\n",
       "      <th></th>\n",
       "    </tr>\n",
       "  </thead>\n",
       "  <tbody>\n",
       "    <tr>\n",
       "      <th>1948</th>\n",
       "      <td>263</td>\n",
       "      <td>171</td>\n",
       "      <td>0.605991</td>\n",
       "      <td>75.0</td>\n",
       "    </tr>\n",
       "    <tr>\n",
       "      <th>2010</th>\n",
       "      <td>193</td>\n",
       "      <td>242</td>\n",
       "      <td>0.443678</td>\n",
       "      <td>-64.0</td>\n",
       "    </tr>\n",
       "    <tr>\n",
       "      <th>1946</th>\n",
       "      <td>188</td>\n",
       "      <td>246</td>\n",
       "      <td>0.433180</td>\n",
       "      <td>-54.0</td>\n",
       "    </tr>\n",
       "    <tr>\n",
       "      <th>1994</th>\n",
       "      <td>204</td>\n",
       "      <td>230</td>\n",
       "      <td>0.470046</td>\n",
       "      <td>-54.0</td>\n",
       "    </tr>\n",
       "    <tr>\n",
       "      <th>1974</th>\n",
       "      <td>291</td>\n",
       "      <td>144</td>\n",
       "      <td>0.668966</td>\n",
       "      <td>49.0</td>\n",
       "    </tr>\n",
       "    <tr>\n",
       "      <th>1958</th>\n",
       "      <td>283</td>\n",
       "      <td>153</td>\n",
       "      <td>0.649083</td>\n",
       "      <td>49.0</td>\n",
       "    </tr>\n",
       "    <tr>\n",
       "      <th>1966</th>\n",
       "      <td>248</td>\n",
       "      <td>187</td>\n",
       "      <td>0.570115</td>\n",
       "      <td>-47.0</td>\n",
       "    </tr>\n",
       "    <tr>\n",
       "      <th>1942</th>\n",
       "      <td>222</td>\n",
       "      <td>209</td>\n",
       "      <td>0.515081</td>\n",
       "      <td>-45.0</td>\n",
       "    </tr>\n",
       "    <tr>\n",
       "      <th>2018</th>\n",
       "      <td>234</td>\n",
       "      <td>201</td>\n",
       "      <td>0.537931</td>\n",
       "      <td>40.0</td>\n",
       "    </tr>\n",
       "    <tr>\n",
       "      <th>1964</th>\n",
       "      <td>295</td>\n",
       "      <td>140</td>\n",
       "      <td>0.678161</td>\n",
       "      <td>37.0</td>\n",
       "    </tr>\n",
       "  </tbody>\n",
       "</table>\n",
       "</div>"
      ],
      "text/plain": [
       "Party  Democratic  Republican  D Seat Pct  Change\n",
       "Year                                             \n",
       "1948          263         171    0.605991    75.0\n",
       "2010          193         242    0.443678   -64.0\n",
       "1946          188         246    0.433180   -54.0\n",
       "1994          204         230    0.470046   -54.0\n",
       "1974          291         144    0.668966    49.0\n",
       "1958          283         153    0.649083    49.0\n",
       "1966          248         187    0.570115   -47.0\n",
       "1942          222         209    0.515081   -45.0\n",
       "2018          234         201    0.537931    40.0\n",
       "1964          295         140    0.678161    37.0"
      ]
     },
     "execution_count": 12,
     "metadata": {},
     "output_type": "execute_result"
    }
   ],
   "source": [
    "dr_seats.loc[:, 'Change'] = dr_seats.Democratic - dr_seats.Democratic.shift(1)\n",
    "dr_seats.loc[:, 'Change_Abs'] = dr_seats.Change.abs()\n",
    "dr_seats.sort_values('Change_Abs', ascending = False).drop('Change_Abs', axis = 1).head(10)"
   ]
  },
  {
   "cell_type": "markdown",
   "metadata": {},
   "source": [
    "The large shifts tend to happen when the other party is already at a relative extreme. The way we talk about elections, it's like the previous election's result -- regardless of whether it was an extreme -- is the new normal.\n",
    "\n",
    "To wit, look at the scatterplot of seats in the previous election vs change in the next. It slopes downwards -- indicating the better your position, the worse you could do in terms of net seat change."
   ]
  },
  {
   "cell_type": "code",
   "execution_count": 13,
   "metadata": {},
   "outputs": [
    {
     "data": {
      "image/png": "[encoded data removed]",
      "text/plain": [
       "<matplotlib.figure.Figure at 0x1de175be470>"
      ]
     },
     "metadata": {},
     "output_type": "display_data"
    }
   ],
   "source": [
    "change_df = dr_seats[['Democratic']]\n",
    "change_df = dr_seats \\\n",
    "    .assign(Previous = lambda x: x.Democratic.shift(1),\n",
    "            Change = lambda x: x.Democratic - x.Democratic.shift(1)) \\\n",
    "    .dropna()\n",
    "\n",
    "scatter(change_df.Previous, change_df.Change)\n",
    "xlabel('Seats won two years prior');\n",
    "ylabel('Seats gained');\n",
    "title('Seats won in previous election vs seats gained in current');\n",
    "gca().spines['right'].set_visible(False)\n",
    "gca().spines['top'].set_visible(False)"
   ]
  },
  {
   "cell_type": "code",
   "execution_count": 14,
   "metadata": {},
   "outputs": [
    {
     "name": "stdout",
     "output_type": "stream",
     "text": [
      "Linear regression between starting seat tally and change\n",
      "Slope = -0.48\n",
      "intercept = 114.80\n",
      "r2 = 0.24\n",
      "p = 0.001\n"
     ]
    }
   ],
   "source": [
    "from scipy.stats import linregress\n",
    "m, b, r, p, e = linregress(change_df.Previous, change_df.Change)\n",
    "print('Linear regression between starting seat tally and change')\n",
    "print('Slope = {0:.2f}\\nintercept = {1:.2f}\\nr2 = {2:.2f}\\np = {3:.3f}'.format(m, b, r**2, p))"
   ]
  },
  {
   "cell_type": "markdown",
   "metadata": {},
   "source": [
    "According to this simple model, your \"starting point\" explains 25% of your \"election performance\" in terms of seats gained/lost. (We could probably do even better adding in whether it was a midterm and the president's party, whether it was a wartime, and change seat totals to seat shares.) It would have predicted the Democrats picking up 21-22 seats. They outperformed that considerably. "
   ]
  }
 ],
 "metadata": {
  "kernelspec": {
   "display_name": "Python 3",
   "language": "python",
   "name": "python3"
  },
  "language_info": {
   "codemirror_mode": {
    "name": "ipython",
    "version": 3
   },
   "file_extension": ".py",
   "mimetype": "text/x-python",
   "name": "python",
   "nbconvert_exporter": "python",
   "pygments_lexer": "ipython3",
   "version": "3.6.4"
  }
 },
 "nbformat": 4,
 "nbformat_minor": 2
}
